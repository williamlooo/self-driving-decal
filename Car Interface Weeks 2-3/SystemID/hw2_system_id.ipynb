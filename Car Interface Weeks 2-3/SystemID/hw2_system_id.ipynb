{
 "cells": [
  {
   "cell_type": "code",
   "execution_count": 138,
   "metadata": {
    "collapsed": true
   },
   "outputs": [],
   "source": [
    "import sys\n",
    "sys.path.append('../')\n",
    "\n",
    "import controller\n",
    "import numpy as np\n",
    "import matplotlib.pyplot as plt\n",
    "from sklearn.linear_model import LinearRegression"
   ]
  },
  {
   "cell_type": "code",
   "execution_count": 139,
   "metadata": {},
   "outputs": [
    {
     "name": "stdout",
     "output_type": "stream",
     "text": [
      "accelerate 97.97%\n",
      "accelerate 83.81%\n",
      "accelerate 86.10%\n",
      "brake 44.12%\n",
      "accelerate 6.98%\n",
      "brake 90.20%\n",
      "brake 91.14%\n",
      "brake 16.78%\n",
      "accelerate 97.06%\n",
      "accelerate 89.06%\n"
     ]
    }
   ],
   "source": [
    "np.random.seed(149)\n",
    "\n",
    "ci = controller.Car_Interface()\n",
    "\n",
    "ci.set_gear(ci.FORWARD)\n",
    "\n",
    "def apply_alternating_controls(ci, num, time_per):\n",
    "\n",
    "    commands = []\n",
    "\n",
    "    '''\n",
    "    commands should be a list of tuples (cmd_type, amt) where\n",
    "    cmd_type is either 'accelerate' or 'brake' and amt is a\n",
    "    random number between 0 and 1 that denotes how much the\n",
    "    corresponding pedal was depressed.\n",
    "    \n",
    "    In total there should be num commands and each should\n",
    "    be executed for time_per seconds.  The car interface log\n",
    "    will be used later for accessing the data, so make sure\n",
    "    to actually execute the commands on the vehicle.\n",
    "    (see controller.py)\n",
    "    '''\n",
    "    \n",
    "    #CODE HERE\n",
    "    for i in range(num):\n",
    "        pedal = int(np.random.uniform(0,2))\n",
    "        amount = np.random.uniform()\n",
    "        \n",
    "        if pedal == 0:\n",
    "            ci.apply_control_for_time(ci.ACCELERATOR, amount, time_per)\n",
    "            commands.append((\"brake\",amount))\n",
    "        else:\n",
    "            ci.apply_control_for_time(ci.BRAKE, amount, time_per)\n",
    "            commands.append(('accelerate',amount))\n",
    "    return commands\n",
    "\n",
    "\n",
    "N = 20\n",
    "TIME_PER = 50\n",
    "commands = apply_alternating_controls(ci, num = N, time_per = TIME_PER)\n",
    "\n",
    "for i in range(10):\n",
    "    print(commands[i][0], f\"{commands[i][1] * 100:.2f}%\")\n",
    "    \n"
   ]
  },
  {
   "cell_type": "code",
   "execution_count": 178,
   "metadata": {},
   "outputs": [
    {
     "data": {
      "image/png": "[encoded data removed]",
      "text/plain": [
       "<matplotlib.figure.Figure at 0x10e74e390>"
      ]
     },
     "metadata": {},
     "output_type": "display_data"
    },
    {
     "name": "stdout",
     "output_type": "stream",
     "text": [
      "Actual Coefficients:\n",
      "c1: 5\n",
      "c2: 5\n",
      "c3: 5\n",
      "c4: 5\n",
      "c2: 0.13218328942760138\n",
      "c3: -0.13617844082678143\n"
     ]
    },
    {
     "ename": "IndexError",
     "evalue": "index 3 is out of bounds for axis 0 with size 3",
     "output_type": "error",
     "traceback": [
      "\u001b[0;31m---------------------------------------------------------------------------\u001b[0m",
      "\u001b[0;31mIndexError\u001b[0m                                Traceback (most recent call last)",
      "\u001b[0;32m<ipython-input-178-8eb57cb4b5f0>\u001b[0m in \u001b[0;36m<module>\u001b[0;34m()\u001b[0m\n\u001b[1;32m    100\u001b[0m \u001b[0mprint\u001b[0m\u001b[0;34m(\u001b[0m\u001b[0;34mf\"c2: {coefficients[1]}\"\u001b[0m\u001b[0;34m)\u001b[0m\u001b[0;34m\u001b[0m\u001b[0;34m\u001b[0m\u001b[0m\n\u001b[1;32m    101\u001b[0m \u001b[0mprint\u001b[0m\u001b[0;34m(\u001b[0m\u001b[0;34mf\"c3: {coefficients[2]}\"\u001b[0m\u001b[0;34m)\u001b[0m\u001b[0;34m\u001b[0m\u001b[0;34m\u001b[0m\u001b[0m\n\u001b[0;32m--> 102\u001b[0;31m \u001b[0mprint\u001b[0m\u001b[0;34m(\u001b[0m\u001b[0;34mf\"c4: {coefficients[3]}\"\u001b[0m\u001b[0;34m)\u001b[0m\u001b[0;34m\u001b[0m\u001b[0;34m\u001b[0m\u001b[0m\n\u001b[0m\u001b[1;32m    103\u001b[0m \u001b[0;31m#print(\"___________________________________________\")\u001b[0m\u001b[0;34m\u001b[0m\u001b[0;34m\u001b[0m\u001b[0;34m\u001b[0m\u001b[0m\n",
      "\u001b[0;31mIndexError\u001b[0m: index 3 is out of bounds for axis 0 with size 3"
     ]
    }
   ],
   "source": [
    "\n",
    "vel_log = ci.log[\"velocity\"]\n",
    "acc_log = ci.log[\"acceleration\"]\n",
    "time_log = ci.log[\"time\"]\n",
    "NUM_READINGS = len(time_log)\n",
    "NUM_READINGS_PER = int(NUM_READINGS / N)\n",
    "#filtered times\n",
    "filt_times = []\n",
    "filt_inps = []\n",
    "filt_outs = []\n",
    "\n",
    "all_times = []\n",
    "all_inps = []\n",
    "all_outs = []\n",
    "\n",
    "\n",
    "def filter(cmd,vel,acc,t):\n",
    "    if abs(acc) > 0.01:\n",
    "        filt_inps.append([cmd[1],vel,t])\n",
    "        filt_outs.append(acc)\n",
    "        filt_times.append(t)\n",
    "        \n",
    "\n",
    "for i in range(NUM_READINGS):\n",
    "    cmd = commands[int(i / NUM_READINGS_PER)]\n",
    "    vel = vel_log[i]\n",
    "    acc = acc_log[i]\n",
    "    t = time_log[i]\n",
    "\n",
    "    if (cmd[0] == 'accelerate'):\n",
    "        '''\n",
    "        inp = ? should be a list of length 3 corresponding\n",
    "        to the three input variable in the linear equation\n",
    "        for determining acceleration\n",
    "        '''\n",
    "        #input position velocity * c3 + accel + brake\n",
    "        inp = [cmd[1],0,vel]\n",
    "\n",
    "        \n",
    "    elif(cmd[0] == 'brake'):\n",
    "        '''\n",
    "        inp = ? remember to order input variables exactly\n",
    "        as done in the previous statement\n",
    "        '''\n",
    "        inp = [0,cmd[1],vel]\n",
    "\n",
    "#    filter(cmd[1],0, vel)\n",
    "    all_inps.append(inp)\n",
    "    all_outs.append(acc)\n",
    "    all_times.append(t)\n",
    "    if abs(acc) > 0.01:\n",
    "        filt_inps.append(inp)\n",
    "        filt_outs.append(acc)\n",
    "        filt_times.append(t)\n",
    "        \n",
    "\n",
    "\n",
    "    '''\n",
    "    At first you can leave this code section blank.\n",
    "    Once you run Linear Regression on the basic inputs\n",
    "    and outputs you will notice the regression struggles to\n",
    "    accurately model data.  Here you will populate the filtered\n",
    "    lists (filt_inps, filt_outs, filt_times) similar to how\n",
    "    the all lists are populate above, but censoring out certain\n",
    "    (input, output) data points that are undesirable.\n",
    "    '''\n",
    "    #LinearRegression()\n",
    "#X = np.array([[1, 1], [1, 2], [2, 2], [2, 3]])\n",
    "#y = np.dot(X, np.array([1, 2])) + 3\n",
    "#print(all_inps)\n",
    "#reg = LinearRegression().fit(all_inps, all_outs)\n",
    "#coefficients = reg.coef_\n",
    "#print((coefficients))\n",
    "\n",
    "\n",
    "\n",
    "plt.title(\"Collected Data\")\n",
    "plt.xlabel(\"Time\")\n",
    "plt.ylabel(\"Acceleration\")\n",
    "plt.scatter(all_times, all_outs, color = 'b')\n",
    "plt.show()\n",
    "\n",
    "print(f\"Actual Coefficients:\")\n",
    "'''\n",
    "Fill in the blanks in the next 4 lines with\n",
    "reasonable names for the 4 coefficients and\n",
    "in the curly braces put the corresponding\n",
    "variable name to display it.  The variables\n",
    "should attributes of the car interface object\n",
    "that correspond to those in the linear\n",
    "equation presented in class.\n",
    "'''\n",
    "\n",
    "c1,c2,c3,c4 = 5,5,5,5\n",
    "\n",
    "print(f\"c1: {coefficients[0]}\")\n",
    "print(f\"c2: {coefficients[1]}\")\n",
    "print(f\"c3: {coefficients[2]}\")\n",
    "print(f\"c4: {b}\")"
   ]
  },
  {
   "cell_type": "code",
   "execution_count": 180,
   "metadata": {},
   "outputs": [
    {
     "name": "stdout",
     "output_type": "stream",
     "text": [
      "Model Fit 0.6078931895764543\n",
      "Model Predictions:\n",
      "c1: -0.007167981801826563\n",
      "c2: 0.13218328942760138\n",
      "c3: -0.13617844082678143\n",
      "c4: 0.0032651133754939016\n",
      "___________________________________________\n"
     ]
    },
    {
     "data": {
      "image/png": "[encoded data removed]",
      "text/plain": [
       "<matplotlib.figure.Figure at 0x1195a2320>"
      ]
     },
     "metadata": {},
     "output_type": "display_data"
    }
   ],
   "source": [
    "model = LinearRegression()\n",
    "\n",
    "\n",
    "'''\n",
    "First fit the model with the generated data.\n",
    "Then assign fit_score to sklearn LinearRegression\n",
    "score function.  Finally retrieve the learned coefficients.\n",
    "There should be 4, 3 linear dependencies and one constant.\n",
    "(See the coef_ and intercept_ attributes in the LinearRegression\n",
    "documentation)\n",
    "'''\n",
    "\n",
    "#CODE HERE\n",
    "\n",
    "reg = model.fit(all_inps, all_outs)\n",
    "coefficients = reg.coef_\n",
    "fit_score = reg.score(all_inps, all_outs)\n",
    "b = reg.intercept_\n",
    "\n",
    "print(f\"Model Fit {fit_score}\")\n",
    "print(f\"Model Predictions:\")\n",
    "'''\n",
    "Fill in the blanks in the next 4 lines with\n",
    "reasonable names for the 4 coefficients and\n",
    "in the curly braces put the corresponding\n",
    "variable name to display it\n",
    "'''\n",
    "c1,c2,c3,c4 = 5,5,5,5\n",
    "\n",
    "print(f\"c1: {coefficients[0]}\")\n",
    "print(f\"c2: {coefficients[1]}\")\n",
    "print(f\"c3: {coefficients[2]}\")\n",
    "print(f\"c4: {b}\")\n",
    "\n",
    "\n",
    "print(\"___________________________________________\")\n",
    "\n",
    "plt.clf()\n",
    "plt.title(\"Model Predictions on all Data\")\n",
    "plt.xlabel(\"Time\")\n",
    "plt.ylabel(\"Acceleration\")\n",
    "plt.scatter(all_times, all_outs, color = 'b')\n",
    "plt.scatter(all_times, model.predict(all_inps), color = 'r')\n",
    "plt.show()"
   ]
  },
  {
   "cell_type": "code",
   "execution_count": 181,
   "metadata": {},
   "outputs": [
    {
     "name": "stdout",
     "output_type": "stream",
     "text": [
      "Model Fit 0.9996350621668143\n",
      "c1: -0.25002428422880085\n",
      "c2: 0.1001116660577628\n",
      "c3: -0.1099227557722343\n",
      "c4: 0.009893222471941684\n"
     ]
    },
    {
     "data": {
      "image/png": "[encoded data removed]",
      "text/plain": [
       "<matplotlib.figure.Figure at 0x115a41ba8>"
      ]
     },
     "metadata": {},
     "output_type": "display_data"
    },
    {
     "data": {
      "image/png": "[encoded data removed]",
      "text/plain": [
       "<matplotlib.figure.Figure at 0x119188f98>"
      ]
     },
     "metadata": {},
     "output_type": "display_data"
    }
   ],
   "source": [
    "'''\n",
    "First fit the model with the filtered generated data.\n",
    "Then assign fit_score to sklearn LinearRegression\n",
    "score function.  Finally retrieve the learned coefficients.\n",
    "There should be 4, 3 linear dependencies and one constant.\n",
    "Code should be similar to the previous section but now using\n",
    "the filtered data.\n",
    "'''\n",
    "\n",
    "\n",
    "reg = model.fit(filt_inps,filt_outs)\n",
    "coefficients = reg.coef_\n",
    "fit_score = reg.score(filt_inps, filt_outs)\n",
    "b=reg.intercept_\n",
    "print(f\"Model Fit {fit_score}\")\n",
    "'''\n",
    "Fill in the blanks as in the previous section\n",
    "'''\n",
    "c1,c2,c3,c4 = 5,5,5,5\n",
    "\n",
    "print(f\"c1: {coefficients[0]}\")\n",
    "print(f\"c2: {coefficients[1]}\")\n",
    "print(f\"c3: {coefficients[2]}\")\n",
    "print(f\"c4: {b}\")\n",
    "\n",
    "plt.clf()\n",
    "plt.title(\"Filtered Data\")\n",
    "plt.scatter(filt_times, filt_outs, color = 'b')\n",
    "plt.xlabel(\"Time\")\n",
    "plt.ylabel(\"Acceleration\")\n",
    "plt.show()\n",
    "\n",
    "plt.clf()\n",
    "plt.title(\"Model Predictions on Filtered Data\")\n",
    "plt.xlabel(\"Time\")\n",
    "plt.ylabel(\"Acceleration\")\n",
    "plt.scatter(filt_times, filt_outs, color = 'b')\n",
    "plt.scatter(filt_times, model.predict(filt_inps), color = 'r')\n",
    "plt.show()"
   ]
  },
  {
   "cell_type": "code",
   "execution_count": null,
   "metadata": {
    "collapsed": true
   },
   "outputs": [],
   "source": []
  },
  {
   "cell_type": "code",
   "execution_count": null,
   "metadata": {
    "collapsed": true
   },
   "outputs": [],
   "source": []
  },
  {
   "cell_type": "code",
   "execution_count": null,
   "metadata": {
    "collapsed": true
   },
   "outputs": [],
   "source": []
  }
 ],
 "metadata": {
  "kernelspec": {
   "display_name": "Python 3",
   "language": "python",
   "name": "python3"
  },
  "language_info": {
   "codemirror_mode": {
    "name": "ipython",
    "version": 3
   },
   "file_extension": ".py",
   "mimetype": "text/x-python",
   "name": "python",
   "nbconvert_exporter": "python",
   "pygments_lexer": "ipython3",
   "version": "3.6.8"
  }
 },
 "nbformat": 4,
 "nbformat_minor": 2
}
